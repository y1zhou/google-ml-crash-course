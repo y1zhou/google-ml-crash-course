{
 "cells": [
  {
   "cell_type": "markdown",
   "metadata": {
    "colab_type": "text",
    "id": "84x4Fxc5lzFv"
   },
   "source": [
    "# Introduction to Fairness in ML\n"
   ]
  },
  {
   "cell_type": "markdown",
   "metadata": {
    "colab_type": "text",
    "id": "J8daw3YOIAXH"
   },
   "source": [
    "## Disclaimer\n",
    "This exercise explores just a small subset of  ideas and techniques relevant to fairness in machine learning; it is not the whole story!"
   ]
  },
  {
   "cell_type": "markdown",
   "metadata": {
    "colab_type": "text",
    "id": "xFxZOg55lWJE"
   },
   "source": [
    "## Learning Objectives\n",
    "\n",
    "* Increase awareness of different types of biases that can manifest in model data.\n",
    "* Explore feature data to proactively identify potential sources of bias before training a model.\n",
    "* Evaluate model performace by subgroup rather than in aggregate."
   ]
  },
  {
   "cell_type": "markdown",
   "metadata": {
    "colab_type": "text",
    "id": "l-K-xqksm-X3"
   },
   "source": [
    "## Overview\n",
    "\n",
    "In this exercise, you'll explore datasets and evaluate classifiers with *fairness* in mind, noting the ways undesirable biases can creep into machine learning (ML).\n",
    "\n",
    "Throughout, you will see **FairAware** tasks, which provide opportunities to contextualize ML processes with respect to fairness. In performing these tasks, you'll identify biases and consider the long-term impact of model predictions if these biases are not addressed."
   ]
  },
  {
   "cell_type": "markdown",
   "metadata": {
    "colab_type": "text",
    "id": "TXkkHYyJ98_k"
   },
   "source": [
    "## About the Dataset and Prediction Task\n",
    "\n",
    "In this exercise, you'll work with the [Adult Census Income dataset](https://archive.ics.uci.edu/ml/datasets/Census+Income), which is commonly used in machine learning literature. This data was extracted from the [1994 Census bureau database](http://www.census.gov/en.html) by Ronny Kohavi and Barry Becker.\n",
    "\n",
    "Each example in the dataset contains the following demographic data for a set of individuals who took part in the 1994 Census:\n",
    "\n",
    "### Numeric Features\n",
    "*   `age`: The age of the individual in years.\n",
    "*   `fnlwgt`: The number of individuals the Census Organizations believes that set of observations represents.\n",
    "*   `education_num`:  An enumeration of the categorical representation of education. The higher the number, the higher the education that individual achieved. For example, an `education_num` of `11` represents `Assoc_voc` (associate degree at a vocational school), an `education_num` of `13` represents `Bachelors`, and an `education_num` of `9` represents `HS-grad` (high school graduate).\n",
    "*   `capital_gain`: Capital gain made by the individual, represented in US Dollars.\n",
    "*   `capital_loss`: Capital loss mabe by the individual, represented in US Dollars.\n",
    "*   `hours_per_week`: Hours worked per week.\n",
    "\n",
    "### Categorical Features\n",
    "*   `workclass`: The individual's type of employer. Examples include: `Private`, `Self-emp-not-inc`, `Self-emp-inc`, `Federal-gov`, `Local-gov`, `State-gov`, `Without-pay`, and `Never-worked`.\n",
    "*   `education`: The highest level of education achieved for that individual.\n",
    "*   `marital_status`: Marital status of the individual. Examples include: `Married-civ-spouse`, `Divorced`, `Never-married`, `Separated`, `Widowed`, `Married-spouse-absent`, and `Married-AF-spouse`.\n",
    "*   `occupation`: The occupation of the individual. Example include: `tech-support`, `Craft-repair`, `Other-service`, `Sales`, `Exec-managerial` and more.\n",
    "*   `relationship`:  The relationship of each individual in a household. Examples include: `Wife`, `Own-child`, `Husband`, `Not-in-family`, `Other-relative`, and `Unmarried`.\n",
    "*   `gender`:  Gender of the individual available only in binary choices: `Female` or `Male`.\n",
    "*   `race`: `White`, `Asian-Pac-Islander`, `Amer-Indian-Eskimo`, `Black`, and `Other`. \n",
    "*   `native_country`: Country of origin of the individual. Examples include: `United-States`, `Cambodia`, `England`, `Puerto-Rico`, `Canada`, `Germany`, `Outlying-US(Guam-USVI-etc)`, `India`, `Japan`, and more.\n",
    "\n",
    "### Prediction Task\n",
    "The prediction task is to **determine whether a person makes over $50,000 US Dollar a year.**\n",
    "\n",
    "### Label\n",
    "*   `income_bracket`: Whether the person makes more than $50,000 US Dollars annually.\n",
    "\n",
    "### Notes on Data Collection\n",
    "\n",
    "All the examples extracted for this dataset meet the following conditions: \n",
    "*   `age` is 16 years or older.\n",
    "*   The adjusted gross income (used to calculate `income_bracket`) is greater than $100 USD annually.\n",
    "*   `fnlwgt` is greater than 0.\n",
    "*   `hours_per_week` is greater than 0.\n",
    "\n",
    "\n",
    "\n",
    "\n"
   ]
  },
  {
   "cell_type": "markdown",
   "metadata": {
    "colab_type": "text",
    "id": "I0RMIktKy8xX"
   },
   "source": [
    "## Setup\n",
    "\n",
    "First, we should ensure that this Colaboratory notebook will run on TensorFlow 2.x."
   ]
  },
  {
   "cell_type": "markdown",
   "metadata": {
    "colab_type": "text",
    "id": "jUsgiVsUeKRR"
   },
   "source": [
    "Next, we'll import the necessary modules to run the code in the rest of this Colaboratory notebook. \n",
    "\n",
    "In addition to importing the usual libraries, this setup code cell also installs [Facets](https://pair-code.github.io/facets/), an open-source tool created by [PAIR](https://research.google/teams/brain/pair/) that contains two robust visualizations we'll be using to aid in understanding and analyzing ML datasets."
   ]
  },
  {
   "cell_type": "code",
   "execution_count": 1,
   "metadata": {
    "cellView": "both",
    "colab": {
     "base_uri": "https://localhost:8080/",
     "height": 243
    },
    "colab_type": "code",
    "id": "2e_0DJJ8zE29",
    "outputId": "eb15a970-1c36-4e59-beb8-147a889f7fa5"
   },
   "outputs": [],
   "source": [
    "import numpy as np\n",
    "import pandas as pd\n",
    "import pytorch_lightning as pl\n",
    "import pytorch_lightning.metrics.sklearns as plm\n",
    "import seaborn as sns\n",
    "import torch\n",
    "\n",
    "# from matplotlib import pyplot as plt\n",
    "# from matplotlib import rcParams\n",
    "from pytorch_lightning.loggers import TensorBoardLogger\n",
    "from sklearn.linear_model import LogisticRegression\n",
    "from sklearn.preprocessing import LabelEncoder, OneHotEncoder\n",
    "from torch import nn as nn\n",
    "from torch.nn import functional as F\n",
    "from torch.utils.data import DataLoader, Dataset, random_split"
   ]
  },
  {
   "cell_type": "code",
   "execution_count": 2,
   "metadata": {},
   "outputs": [],
   "source": [
    "# For facets\n",
    "import base64\n",
    "\n",
    "from facets_overview.feature_statistics_generator import FeatureStatisticsGenerator\n",
    "from IPython.core.display import HTML, display"
   ]
  },
  {
   "cell_type": "markdown",
   "metadata": {
    "colab_type": "text",
    "id": "-xgIRapb5LaQ"
   },
   "source": [
    "### Load the Adult Dataset\n",
    "\n",
    "With the modules now imported, we can load the Adult dataset into a pandas DataFrame data structure."
   ]
  },
  {
   "cell_type": "code",
   "execution_count": 3,
   "metadata": {
    "colab": {
     "base_uri": "https://localhost:8080/",
     "height": 52
    },
    "colab_type": "code",
    "id": "TeCNVvVUVS0P",
    "outputId": "6d05c383-4aa1-4533-c766-413878103642"
   },
   "outputs": [],
   "source": [
    "COLUMNS = [\n",
    "    \"age\",\n",
    "    \"workclass\",\n",
    "    \"fnlwgt\",\n",
    "    \"education\",\n",
    "    \"education_num\",\n",
    "    \"marital_status\",\n",
    "    \"occupation\",\n",
    "    \"relationship\",\n",
    "    \"race\",\n",
    "    \"gender\",\n",
    "    \"capital_gain\",\n",
    "    \"capital_loss\",\n",
    "    \"hours_per_week\",\n",
    "    \"native_country\",\n",
    "    \"income_bracket\",\n",
    "]\n",
    "\n",
    "train_df = pd.read_csv(\n",
    "    \"https://download.mlcc.google.com/mledu-datasets/adult_census_train.csv\",\n",
    "    names=COLUMNS,\n",
    "    sep=r\"\\s*,\\s*\",\n",
    "    engine=\"python\",\n",
    "    na_values=\"?\",\n",
    ")\n",
    "test_df = pd.read_csv(\n",
    "    \"https://download.mlcc.google.com/mledu-datasets/adult_census_test.csv\",\n",
    "    names=COLUMNS,\n",
    "    sep=r\"\\s*,\\s*\",\n",
    "    skiprows=[0],\n",
    "    engine=\"python\",\n",
    "    na_values=\"?\",\n",
    ")\n",
    "test_df[\"income_bracket\"] = test_df[\"income_bracket\"].str.replace(\"\\.$\", \"\", regex=True)"
   ]
  },
  {
   "cell_type": "markdown",
   "metadata": {
    "colab_type": "text",
    "id": "coilRN-hooja"
   },
   "source": [
    "## Analyzing the Adult Dataset with Facets\n",
    "\n",
    "As mentioned in MLCC, it is important to understand your dataset *before* diving straight into the prediction task. \n",
    "\n",
    "Some important questions to investigate when auditing a dataset for fairness:\n",
    "\n",
    "* **Are there missing feature values for a large number of observations?**\n",
    "* **Are there features that are missing that might affect other features?**\n",
    "* **Are there any unexpected feature values?**\n",
    "* **What signs of data skew do you see?**"
   ]
  },
  {
   "cell_type": "markdown",
   "metadata": {
    "colab_type": "text",
    "id": "9yCIuAqWA1Pm"
   },
   "source": [
    "To start, we can use [Facets Overview](https://pair-code.github.io/facets/), an interactive visualization tool that can help us explore the dataset. With Facets Overview, we can quickly analyze the distribution of values across the Adult dataset."
   ]
  },
  {
   "cell_type": "markdown",
   "metadata": {
    "cellView": "form",
    "colab": {
     "base_uri": "https://localhost:8080/",
     "height": 1000
    },
    "colab_type": "code",
    "id": "MW-qryqs1gig",
    "outputId": "ad7095b9-c40a-40d5-86aa-8a0155aa459c"
   },
   "source": [
    "```python\n",
    "# @title Visualize the Data in Facets\n",
    "fsg = FeatureStatisticsGenerator()\n",
    "dataframes = [{\"table\": train_df, \"name\": \"trainData\"}]\n",
    "censusProto = fsg.ProtoFromDataFrames(dataframes)\n",
    "protostr = base64.b64encode(censusProto.SerializeToString()).decode(\"utf-8\")\n",
    "\n",
    "\n",
    "HTML_TEMPLATE = \"\"\"<script src=\"https://cdnjs.cloudflare.com/ajax/libs/webcomponentsjs/1.3.3/webcomponents-lite.js\"></script>\n",
    "        <link rel=\"import\" href=\"https://raw.githubusercontent.com/PAIR-code/facets/1.0.0/facets-dist/facets-jupyter.html\">\n",
    "        <facets-overview id=\"elem\"></facets-overview>\n",
    "        <script>\n",
    "          document.querySelector(\"#elem\").protoInput = \"{protostr}\";\n",
    "        </script>\"\"\"\n",
    "html = HTML_TEMPLATE.format(protostr=protostr)\n",
    "display(HTML(html))\n",
    "```"
   ]
  },
  {
   "cell_type": "markdown",
   "metadata": {
    "colab_type": "text",
    "id": "91wjnZFpPWw-"
   },
   "source": [
    "## FairAware Task #1\n",
    "\n",
    "Review the descriptive statistics and histograms for each numerical and continuous feature. Click the **Show Raw Data** button above the histograms for categorical features to see the distribution of values per category.\n",
    "\n",
    "Then, try to answer the following questions from earlier:\n",
    "\n",
    "1. Are there missing feature values for a large number of observations?\n",
    "2. Are there features that are missing that might affect other features?\n",
    "3. Are there any unexpected feature values?\n",
    "4. What signs of data skew do you see?"
   ]
  },
  {
   "cell_type": "markdown",
   "metadata": {
    "colab_type": "text",
    "id": "KlF-lQ8yQ69b"
   },
   "source": [
    "### Solution\n",
    "\n",
    "Click below for some insights we uncovered."
   ]
  },
  {
   "cell_type": "markdown",
   "metadata": {
    "colab_type": "text",
    "id": "xX_qjj5AQ_Hb"
   },
   "source": [
    "We can see from reviewing the **missing** column that the following categorical features contain missing values:\n",
    "\n",
    "*   workclass\n",
    "*   occupation\n",
    "\n",
    "Now, because it's only a small percentage of samples that contain either a missing workclass value or occupation value, we can safely drop those rows from the data set. If that percentage was much higher, then we would have to consider using a different data set that is more complete. \n",
    "\n",
    "Luckily, in Pandas, there is a convenient way to drop any row containing a missing value in the data set:\n",
    "\n",
    "```\n",
    "# pandas.DataFrame.dropna(how=\"any\", axis=0, inplace=True)\n",
    "```\n",
    "We will use this method prior to training the model when we convert a Pandas DataFrame to a Numpy array.\n",
    "\n",
    "As for the remaining data that does not contain any missing values: if we look at the min/max values and histograms for each numeric feature, then we can pinpoint any extreme outliers in our data set. \n",
    "\n",
    "For `hours_per_week`, we can see that the minimum is 1, which might be a bit surprising, given that most jobs typically require multiple hours of work per week. For `capital_gain` and `capital_loss`, we can see that over 90% of values are 0. Given that capital gains/losses are only registered by individuals who make investments, it's certainly plausible that less than 10% of examples would have nonzero values for these feature, but we may want to take a closer look to verify the values for these features are valid.\n",
    "\n",
    "In looking at the histogram for gender, we see that over two-thirds (approximately 67%) of examples represent males. This strongly suggests data skew, as we would expect the breakdown between genders to be closer to 50/50."
   ]
  },
  {
   "cell_type": "markdown",
   "metadata": {
    "colab_type": "text",
    "id": "hKj2hz-Sql7V"
   },
   "source": [
    "### A Deeper Dive\n",
    "\n",
    "To futher explore the dataset, we can use [Facets Dive](https://pair-code.github.io/facets/), a tool that provides an interactive interface where each individual item in the visualization represents a data point. But to use Facets Dive, we need to convert the data to a JSON array.\n",
    "Thankfully the DataFrame method `to_json()` takes care of this for us.\n",
    "\n",
    "Run the cell below to perform the data transform to JSON and also load Facets Dive. "
   ]
  },
  {
   "cell_type": "markdown",
   "metadata": {
    "cellView": "both",
    "colab": {
     "base_uri": "https://localhost:8080/",
     "height": 617
    },
    "colab_type": "code",
    "id": "stlklrG_xssF",
    "outputId": "bcdc8605-5178-4ab8-c05a-e519677f7a2e"
   },
   "source": [
    "```python\n",
    "# @title Set the Number of Data Points to Visualize in Facets Dive\n",
    "\n",
    "SAMPLE_SIZE = 5000  # @param\n",
    "\n",
    "train_dive = train_df.sample(SAMPLE_SIZE).to_json(orient=\"records\")\n",
    "\n",
    "HTML_TEMPLATE = \"\"\"<script src=\"https://cdnjs.cloudflare.com/ajax/libs/webcomponentsjs/1.3.3/webcomponents-lite.js\"></script>\n",
    "        <link rel=\"import\" href=\"https://raw.githubusercontent.com/PAIR-code/facets/1.0.0/facets-dist/facets-jupyter.html\">\n",
    "        <facets-dive id=\"elem\" height=\"600\"></facets-dive>\n",
    "        <script>\n",
    "          var data = {jsonstr};\n",
    "          document.querySelector(\"#elem\").data = data;\n",
    "        </script>\"\"\"\n",
    "html = HTML_TEMPLATE.format(jsonstr=train_dive)\n",
    "display(HTML(html))\n",
    "```"
   ]
  },
  {
   "cell_type": "markdown",
   "metadata": {
    "colab_type": "text",
    "id": "LxqAPDcRDFB2"
   },
   "source": [
    "## FairAware Task #2\n",
    "\n",
    "Use the menus on the left panel of the visualization to change how the data is organized:\n",
    "\n",
    "1. In the **Binning | X-Axis** menu, select **education**, and in the **Color By** and  **Label By** menus, select **income_bracket**. How would you describe the relationship between education level and income bracket?\n",
    "\n",
    "2. Next, in the **Binning | X-Axis** menu, select  **marital_status**, and in the **Color By** and  **Label By** menus, select **gender**. What noteworthy observations can you make about the gender distributions for each marital-status category?\n",
    "\n",
    "As you perform the above tasks, keep the following fairness-related questions in mind:\n",
    "\n",
    "* **What's missing?**\n",
    "* **What's being overgeneralized?**\n",
    "* **What's being underrepresented?**\n",
    "* **How do the variables, and their values, reflect the real world?**\n",
    "* **What might we be leaving out?**"
   ]
  },
  {
   "cell_type": "markdown",
   "metadata": {
    "colab_type": "text",
    "id": "qZ-9vJgSEpHj"
   },
   "source": [
    "### Solution\n",
    "\n",
    "Click below for some insights we uncovered."
   ]
  },
  {
   "cell_type": "markdown",
   "metadata": {
    "colab_type": "text",
    "id": "uYpbgdATEx8L"
   },
   "source": [
    "1. In the data set, higher education levels generally tend to correlate with a higher income bracket. An income level of greater than $50,000 is more heavily represented in examples where education level is Bachelor's degree or higher.\n",
    "\n",
    "2. In most marital-status categories, the distribution of male vs. female values is close to 1:1. The one notable exception is \"married-civ-spouse\", where male outnumbers female by more than 5:1. Given that we already discovered in Task #1 that there is a disproportionately high representation of men in the data set, we can now infer that it's married women specifically that are underrepresented in the data."
   ]
  },
  {
   "cell_type": "markdown",
   "metadata": {
    "colab_type": "text",
    "id": "7YVH8hYfSjer"
   },
   "source": [
    "### Summary\n",
    "\n",
    "Plotting histograms, ranking most-to-least common examples, identifying duplicate or missing examples, making sure the training and test sets are similar, computing feature quantiles—**these are all critical analyses to perform on your data.** \n",
    "\n",
    "**The better you know what's going on in your data, the more insight you'll have as to where unfairness might creep in!**"
   ]
  },
  {
   "cell_type": "markdown",
   "metadata": {
    "colab_type": "text",
    "id": "2ivWw9Wpj67m"
   },
   "source": [
    "## FairAware Task #3\n",
    "\n",
    "Now that you've explored the dataset using Facets, see if you can identify some of the problems that may arise with regard to fairness based on what you've learned about its features.\n",
    "\n",
    "Which of the following features might pose a problem with regard to fairness?\n",
    "\n",
    "### hours_per_week\n",
    "\n",
    "It does seem a little strange to see 'hours_per_week' max out at 99 hours,\n",
    "which could lead to data misrepresentation. One way to address this is by\n",
    "representing 'hours_per_week' as a binary \"working 40 hours/not working 40\n",
    "hours\" feature. Also keep in mind that data was extracted based on work hours\n",
    "being greater than 0. In other words, this feature representation exclude a\n",
    "subpopulation of the US that is not working. This could skew the outcomes of the\n",
    "model.\n",
    "\n",
    "### fnlwgt\n",
    "\n",
    "'fnlwgt' represents the weight of the observations. After fitting the model\n",
    "to this data set, if certain group of individuals end up performing poorly \n",
    "compared to other groups, then we could explore ways of reweighting each data \n",
    "point using this feature.\n",
    "\n",
    "### gender\n",
    "\n",
    "Looking at the ratio between men and women shows how disproportionate the data\n",
    "is compared to the real world where the ratio (at least in the US) is closer to\n",
    "1:1. This could pose a huge probem in performance across gender. Considerable\n",
    "measures may need to be taken to upsample the underrepresented group (in this\n",
    "case, women).\n",
    "\n",
    "### capital_gain / capital_loss\n",
    "\n",
    "As alluded to in Task #1, both 'capital_gain' and 'capital_loss' could be \n",
    "indicative of income status as only individuals who make investments register \n",
    "their capital gains and losses. The caveat is that over 90% of the values in \n",
    "both 'capital_gain' and 'capital_loss' are 0, and it's not entirely clear from \n",
    "the description of the data set why that is the case. That is, we don't know \n",
    "whether we should interpret all these 0s as \"no investment gain/loss or \"\n",
    "investment gain/loss is unknown.\" Lack of context is always a flag for concern, \n",
    "and one that could trigger fairness-related issues later on. For now, we are \n",
    "going to omit these features from the model, but you are more than welcome to \n",
    "experiment with them if you come up with an idea on how capital gains and \n",
    "losses should be handled.\n",
    "\n",
    "### age\n",
    "\n",
    "\"age\" has a lot of variance, so it might benefit from bucketing to learn\n",
    "fine-grained correlations between income and age, as well as to prevent\n",
    "overfitting."
   ]
  },
  {
   "cell_type": "markdown",
   "metadata": {
    "colab_type": "text",
    "id": "n3OT-YVpftEI"
   },
   "source": [
    "## Predicting income\n",
    "\n",
    "Now that we have a better sense of the Adult dataset, we can now begin with creating a neural network to predict income."
   ]
  },
  {
   "cell_type": "code",
   "execution_count": 4,
   "metadata": {
    "colab": {},
    "colab_type": "code",
    "id": "Bt-rQvJLx4Hm"
   },
   "outputs": [],
   "source": [
    "def extract_label(data):\n",
    "    # Drop empty rows.\n",
    "    data = data.dropna(how=\"any\", axis=0)\n",
    "\n",
    "    # Separate DataFrame into two Numpy arrays\"\n",
    "    labels = np.where(data[\"income_bracket\"] == \">50K\", 1.0, 0.0)\n",
    "    features = data.drop(\"income_bracket\", axis=1)\n",
    "\n",
    "    return features, labels\n",
    "\n",
    "\n",
    "dat_x, dat_y = extract_label(train_df)\n",
    "test_x, test_y = extract_label(test_df)"
   ]
  },
  {
   "cell_type": "markdown",
   "metadata": {
    "colab_type": "text",
    "id": "0mz2sts6IjBO"
   },
   "source": [
    "### Represent Features"
   ]
  },
  {
   "cell_type": "markdown",
   "metadata": {
    "colab_type": "text",
    "id": "3WqAbug6jePb"
   },
   "source": [
    "#### Make Age a Categorical Feature\n",
    "\n",
    "If you chose `age` when completing **FairAware Task #3**, you will have noticed that we suggested *bucketing* (also known as *binning*) this feature, grouping together similar ages into different groups. This might help the model generalize better across age. As such, we will convert `age` from a numeric feature (technically, an [ordinal feature](https://en.wikipedia.org/wiki/Ordinal_data)) to a categorical feature."
   ]
  },
  {
   "cell_type": "code",
   "execution_count": 5,
   "metadata": {
    "colab": {},
    "colab_type": "code",
    "id": "HxVm8X15yLR7"
   },
   "outputs": [],
   "source": [
    "age_buckets = [x for x in range(10, 100, 10)]\n",
    "dat_x[\"age_bucket\"] = pd.cut(dat_x[\"age\"], bins=age_buckets).astype(str)\n",
    "test_x[\"age_bucket\"] = pd.cut(test_x[\"age\"], bins=age_buckets).astype(str)\n",
    "\n",
    "# numerical_features = [\"age\", \"fnlwgt\", \"education_num\", \"capital_gain\", \"capital_loss\", \"hours_per_week\"]\n",
    "# categorical_features = [\"age_bucket\", \"occupation\", \"native_country\", \"gender\", \"race\", \"education\", \"marital_status\", \"relationship\", \"workclass\"]"
   ]
  },
  {
   "cell_type": "markdown",
   "metadata": {
    "colab_type": "text",
    "id": "2lx4JuLdi7jw"
   },
   "source": [
    "#### Consider Key Subgroups\n",
    "\n",
    "When performing feature engineering, it's important to keep in mind that you may be working with data drawn from individuals belonging to subgroups, for which you'll want to evaluate model performance separately.\n",
    "\n",
    "**_NOTE:_** *In this context, a subgroup is defined as a group of individuals who share a given characteristic—such as race, gender, or sexual orientation—that merits special consideration when evaluating a model with fairness in mind.*\n",
    "\n",
    "When we want our models to mitigate, or leverage, the learned signal of a characteristic pertaining to a subgroup, we will want to use different kinds of tools and techniques—**most of which are still actively being researched and developed**. You can find a list of related research work and techniques at our [Responsible AI Practices](https://ai.google/responsibilities/responsible-ai-practices/?category=fairness) page.\n",
    "\n",
    "As you work with different variables and define tasks for them, it can be useful to think about what comes next. For example, *where are the places where the interaction of the variable and the task could be a concern?*"
   ]
  },
  {
   "cell_type": "markdown",
   "metadata": {
    "colab_type": "text",
    "id": "5aD1OM8egad9"
   },
   "source": [
    "### Define the Model Features\n",
    "\n",
    "Now we can explicitly define which feature we will include in our model.\n",
    "\n",
    "We'll consider `gender` a subgroup and save it in a separate `subgroup_variables` list, so we can add special handling for it as needed."
   ]
  },
  {
   "cell_type": "markdown",
   "metadata": {
    "colab_type": "text",
    "id": "3nYSMg67jWaA"
   },
   "source": [
    "### Train a Deep Neural Net Model on Adult Dataset\n",
    "\n",
    "With the features now ready to go, we can try predicting income using deep learning.\n",
    "\n",
    "For the sake of simplicity, we are going to keep the neural network architecture light by simply **defining a feed-forward neural network with two hidden layers**.\n",
    "\n",
    "But first, we have to convert our high-dimensional categorical features into a low-dimensional and dense real-valued vector, which we call an embedding vector. Luckily, ```indicator_column``` (think of it as one-hot encoding) and ```embedding_column``` (that converts sparse features into dense features) helps us streamline the process.\n",
    "\n",
    "Based on our analysis of the data set from previous FairAware Tasks, we are going to move forward with the following features:\n",
    "\n",
    "- One-hot encode\n",
    "    -   `workclass`\n",
    "    -   `education`\n",
    "    -   `age_bucket`\n",
    "    -   `relationship`\n",
    "\n",
    "- Embedding\n",
    "    -   `native_country`\n",
    "    -   `occupation`\n",
    "\n",
    "All other features will be omitted from training — but you are welcome to experiment. `gender` is the only feature that will be used to filter the test set for subgroup evaluation purposes.\n",
    "\n",
    "The following cell creates the deep columns required to define the input layer of the model:"
   ]
  },
  {
   "cell_type": "code",
   "execution_count": 6,
   "metadata": {},
   "outputs": [],
   "source": [
    "ohe_features = [\n",
    "    \"workclass\",\n",
    "    \"education\",\n",
    "    \"age_bucket\",\n",
    "    \"relationship\",\n",
    "]\n",
    "embedding_layers = [\n",
    "    \"native_country\",\n",
    "    \"occupation\",\n",
    "]\n",
    "selected_features = ohe_features + embedding_layers"
   ]
  },
  {
   "cell_type": "markdown",
   "metadata": {},
   "source": [
    "### Logistic model (baseline)"
   ]
  },
  {
   "cell_type": "code",
   "execution_count": 7,
   "metadata": {},
   "outputs": [],
   "source": [
    "X, y = pd.get_dummies(dat_x[selected_features]), dat_y\n",
    "X_test, y_test = pd.get_dummies(test_x[selected_features]), test_y\n",
    "\n",
    "for col in X.columns:\n",
    "    if col not in X_test.columns:\n",
    "        X_test[col] = 0\n",
    "X_test = X_test[X.columns]"
   ]
  },
  {
   "cell_type": "code",
   "execution_count": 8,
   "metadata": {},
   "outputs": [
    {
     "name": "stdout",
     "output_type": "stream",
     "text": [
      "Training set: accuracy - 0.8325 | AUC - 0.7403\n",
      "    Test set: accuracy - 0.8296 | AUC - 0.7349\n"
     ]
    }
   ],
   "source": [
    "logistic_model = LogisticRegression(random_state=42, max_iter=500).fit(X, y)\n",
    "train_pred, test_pred = logistic_model.predict(X), logistic_model.predict(X_test)\n",
    "print(\n",
    "    f\"Training set: accuracy - {logistic_model.score(X, y):.4f} | AUC - {plm.AUROC()(train_pred, y).item():.4f}\"\n",
    ")\n",
    "print(\n",
    "    f\"    Test set: accuracy - {logistic_model.score(X_test, y_test):.4f} | AUC - {plm.AUROC()(test_pred, y_test).item():.4f}\"\n",
    ")"
   ]
  },
  {
   "cell_type": "markdown",
   "metadata": {},
   "source": [
    "### Neural network model with embedding"
   ]
  },
  {
   "cell_type": "code",
   "execution_count": 9,
   "metadata": {},
   "outputs": [],
   "source": [
    "encoders = {}\n",
    "for feat in selected_features:\n",
    "    enc = LabelEncoder()\n",
    "    dat_x[feat] = enc.fit_transform(dat_x[feat].to_numpy())\n",
    "    test_x[feat] = enc.transform(test_x[feat].to_numpy())\n",
    "    encoders[feat] = {\"encoder\": enc, \"classes\": enc.classes_.size}\n",
    "\n",
    "dat_x = dat_x[selected_features]\n",
    "test_x = test_x[selected_features]\n",
    "\n",
    "embedding_sizes = [encoders[x][\"classes\"] for x in embedding_layers]"
   ]
  },
  {
   "cell_type": "code",
   "execution_count": 10,
   "metadata": {},
   "outputs": [],
   "source": [
    "class IncomeDataset(Dataset):\n",
    "    def __init__(self, x1, x2, y, encoders):\n",
    "        \"\"\"\n",
    "        x1: list of one-hot encoded features\n",
    "        x2: list of embedding features\n",
    "        y: labels\n",
    "        \"\"\"\n",
    "        self.y = torch.tensor(y.reshape(-1, 1), dtype=torch.float)\n",
    "\n",
    "        self.x1 = torch.cat(\n",
    "            [\n",
    "                F.one_hot(\n",
    "                    torch.tensor(feat.to_numpy(), dtype=torch.long),\n",
    "                    num_classes=encoders[col][\"classes\"],\n",
    "                ).float()\n",
    "                for col, feat in x1.iteritems()\n",
    "            ],\n",
    "            dim=1,\n",
    "        )\n",
    "        self.x2 = torch.tensor(x2.to_numpy(), dtype=torch.long)\n",
    "\n",
    "    def __getitem__(self, idx):\n",
    "        return (self.x1[idx], self.x2[idx], self.y[idx])\n",
    "\n",
    "    def __len__(self):\n",
    "        return len(self.y)\n",
    "\n",
    "\n",
    "dat = IncomeDataset(dat_x[ohe_features], dat_x[embedding_layers], dat_y, encoders)\n",
    "dat_test = IncomeDataset(\n",
    "    test_x[ohe_features], test_x[embedding_layers], test_y, encoders\n",
    ")\n",
    "\n",
    "validation_set_size = int(len(dat.y) * 0.05)\n",
    "training_set_size = len(dat.y) - validation_set_size\n",
    "dat_train, dat_val = random_split(dat, [training_set_size, validation_set_size])"
   ]
  },
  {
   "cell_type": "code",
   "execution_count": 11,
   "metadata": {},
   "outputs": [],
   "source": [
    "class NNModel(pl.LightningModule):\n",
    "    def __init__(self, dat_train, dat_val, dat_test, hparams, embedding_sizes):\n",
    "        super().__init__()\n",
    "        self.hparams = hparams\n",
    "        self.dat_train = dat_train\n",
    "        self.dat_val = dat_val\n",
    "        self.dat_test = dat_test\n",
    "\n",
    "        self.l_embeddings = nn.ModuleList(\n",
    "            [\n",
    "                nn.Embedding(num_embeddings=1000, embedding_dim=8)\n",
    "                for _ in embedding_sizes\n",
    "            ]\n",
    "        )\n",
    "\n",
    "        self.l1 = nn.Linear(\n",
    "            dat_train.dataset.x1.size(1) + len(embedding_sizes) * 8,\n",
    "            self.hparams.layer1_units,\n",
    "        )\n",
    "        self.l2 = nn.Linear(self.hparams.layer1_units, self.hparams.layer2_units)\n",
    "        self.l3 = nn.Linear(self.hparams.layer2_units, 1)\n",
    "\n",
    "    def forward(self, x1, x2):\n",
    "        # Train embedding layers\n",
    "        x_embedding = [\n",
    "            l(x2[:, i].view(-1, 1)).view(x2.size(0), -1)\n",
    "            for i, l in enumerate(self.l_embeddings)\n",
    "        ]\n",
    "\n",
    "        # Flatten embedding layers\n",
    "        x = torch.cat(x_embedding, dim=1)\n",
    "        x = torch.cat((x1, x), dim=1)\n",
    "\n",
    "        # Fully connected layers\n",
    "        x = F.relu(self.l1(x))\n",
    "        x = F.relu(self.l2(x))\n",
    "        x = self.l3(x)\n",
    "\n",
    "        return x\n",
    "\n",
    "    def configure_optimizers(self):\n",
    "        optimizer = torch.optim.Adagrad(\n",
    "            self.parameters(),\n",
    "            lr=self.hparams.learning_rate,\n",
    "            weight_decay=self.hparams.L2_regularization_strength,\n",
    "        )\n",
    "        return [optimizer]\n",
    "\n",
    "    def training_step(self, batch, batch_idx):\n",
    "        x1, x2, y = batch\n",
    "        y_hat = self.forward(x1, x2)  # or just self(x)\n",
    "        y_pred = (y_hat.sigmoid() > self.hparams.pred_cutoff).float()\n",
    "\n",
    "        loss = F.binary_cross_entropy_with_logits(\n",
    "            y_hat, y\n",
    "        ) + self.hparams.L1_regularization_strength * F.l1_loss(y_pred, y)\n",
    "        accuarcy = plm.Accuracy()(y_pred, y)\n",
    "        auc = plm.AUROC()(y_pred, y)\n",
    "\n",
    "        logs = {\"train_loss\": loss, \"train_accuracy\": accuarcy, \"train_AUC\": auc}\n",
    "        return {\"loss\": loss, \"log\": logs}\n",
    "\n",
    "    def validation_step(self, batch, batch_idx):\n",
    "        x1, x2, y = batch\n",
    "        y_hat = self(x1, x2)\n",
    "        y_pred = (y_hat.sigmoid() > self.hparams.pred_cutoff).float()\n",
    "\n",
    "        return {\n",
    "            \"val_loss\": F.binary_cross_entropy_with_logits(y_hat, y)\n",
    "            + self.hparams.L1_regularization_strength * F.l1_loss(y_pred, y),\n",
    "            \"val_accuracy\": plm.Accuracy()(y_pred, y),\n",
    "            \"val_AUC\": plm.AUROC()(y_pred, y),\n",
    "        }\n",
    "\n",
    "    def validation_epoch_end(self, outputs):\n",
    "        avg_loss = torch.stack([x[\"val_loss\"] for x in outputs]).mean()\n",
    "        avg_acc = torch.stack([x[\"val_accuracy\"] for x in outputs]).mean()\n",
    "        avg_AUC = torch.stack([x[\"val_AUC\"] for x in outputs]).mean()\n",
    "        logs = {\"val_loss\": avg_loss, \"val_accuracy\": avg_acc, \"val_AUC\": avg_AUC}\n",
    "        return {\"avg_val_loss\": avg_loss, \"log\": logs}\n",
    "\n",
    "    def test_step(self, batch, batch_idx):\n",
    "        x1, x2, y = batch\n",
    "        y_hat = self(x1, x2)\n",
    "        y_pred = (y_hat.sigmoid() > self.hparams.pred_cutoff).float()\n",
    "        return {\n",
    "            \"test_loss\": F.binary_cross_entropy_with_logits(y_hat, y)\n",
    "            + self.hparams.L1_regularization_strength * F.l1_loss(y_pred, y),\n",
    "            \"test_accuracy\": plm.Accuracy()(y_pred, y),\n",
    "            \"test_precision\": plm.Precision()(y_pred, y),\n",
    "            \"test_recall\": plm.Recall()(y_pred, y),\n",
    "            \"test_AUC\": plm.AUROC()(y_pred, y),\n",
    "        }\n",
    "\n",
    "    def test_epoch_end(self, outputs):\n",
    "        avg_loss = torch.stack([x[\"test_loss\"] for x in outputs]).mean()\n",
    "        avg_acc = torch.stack([x[\"test_accuracy\"] for x in outputs]).mean()\n",
    "        avg_precision = torch.stack([x[\"test_precision\"] for x in outputs]).mean()\n",
    "        avg_recall = torch.stack([x[\"test_recall\"] for x in outputs]).mean()\n",
    "        avg_AUC = torch.stack([x[\"test_AUC\"] for x in outputs]).mean()\n",
    "        return {\n",
    "            \"avg_test_loss\": avg_loss,\n",
    "            \"avg_test_accuracy\": avg_acc,\n",
    "            \"avg_test_precision\": avg_precision,\n",
    "            \"avg_test_recall\": avg_recall,\n",
    "            \"avg_test_AUC\": avg_AUC,\n",
    "        }\n",
    "\n",
    "    def train_dataloader(self):\n",
    "        return DataLoader(\n",
    "            self.dat_train,\n",
    "            batch_size=self.hparams.batch_size,\n",
    "            num_workers=8,\n",
    "            shuffle=True,\n",
    "        )\n",
    "\n",
    "    def val_dataloader(self):\n",
    "        return DataLoader(\n",
    "            self.dat_val, batch_size=self.hparams.batch_size, num_workers=4\n",
    "        )\n",
    "\n",
    "    def test_dataloader(self):\n",
    "        return DataLoader(\n",
    "            self.dat_test, batch_size=self.hparams.batch_size, num_workers=4\n",
    "        )"
   ]
  },
  {
   "cell_type": "code",
   "execution_count": 14,
   "metadata": {},
   "outputs": [
    {
     "name": "stderr",
     "output_type": "stream",
     "text": [
      "GPU available: True, used: True\n",
      "TPU available: False, using: 0 TPU cores\n",
      "CUDA_VISIBLE_DEVICES: [0]\n",
      "\n",
      "  | Name         | Type       | Params\n",
      "--------------------------------------------\n",
      "0 | l_embeddings | ModuleList | 16 K  \n",
      "1 | l1           | Linear     | 6 K   \n",
      "2 | l2           | Linear     | 8 K   \n",
      "3 | l3           | Linear     | 65    \n"
     ]
    },
    {
     "data": {
      "application/vnd.jupyter.widget-view+json": {
       "model_id": "",
       "version_major": 2,
       "version_minor": 0
      },
      "text/plain": [
       "HBox(children=(FloatProgress(value=1.0, bar_style='info', description='Validation sanity check', layout=Layout…"
      ]
     },
     "metadata": {},
     "output_type": "display_data"
    },
    {
     "data": {
      "application/vnd.jupyter.widget-view+json": {
       "model_id": "fc14c4950ef44907a624f7caab48b683",
       "version_major": 2,
       "version_minor": 0
      },
      "text/plain": [
       "HBox(children=(FloatProgress(value=1.0, bar_style='info', description='Training', layout=Layout(flex='2'), max…"
      ]
     },
     "metadata": {},
     "output_type": "display_data"
    },
    {
     "data": {
      "application/vnd.jupyter.widget-view+json": {
       "model_id": "",
       "version_major": 2,
       "version_minor": 0
      },
      "text/plain": [
       "HBox(children=(FloatProgress(value=1.0, bar_style='info', description='Validating', layout=Layout(flex='2'), m…"
      ]
     },
     "metadata": {},
     "output_type": "display_data"
    },
    {
     "data": {
      "application/vnd.jupyter.widget-view+json": {
       "model_id": "",
       "version_major": 2,
       "version_minor": 0
      },
      "text/plain": [
       "HBox(children=(FloatProgress(value=1.0, bar_style='info', description='Validating', layout=Layout(flex='2'), m…"
      ]
     },
     "metadata": {},
     "output_type": "display_data"
    },
    {
     "data": {
      "application/vnd.jupyter.widget-view+json": {
       "model_id": "",
       "version_major": 2,
       "version_minor": 0
      },
      "text/plain": [
       "HBox(children=(FloatProgress(value=1.0, bar_style='info', description='Validating', layout=Layout(flex='2'), m…"
      ]
     },
     "metadata": {},
     "output_type": "display_data"
    },
    {
     "data": {
      "application/vnd.jupyter.widget-view+json": {
       "model_id": "",
       "version_major": 2,
       "version_minor": 0
      },
      "text/plain": [
       "HBox(children=(FloatProgress(value=1.0, bar_style='info', description='Validating', layout=Layout(flex='2'), m…"
      ]
     },
     "metadata": {},
     "output_type": "display_data"
    },
    {
     "data": {
      "application/vnd.jupyter.widget-view+json": {
       "model_id": "",
       "version_major": 2,
       "version_minor": 0
      },
      "text/plain": [
       "HBox(children=(FloatProgress(value=1.0, bar_style='info', description='Validating', layout=Layout(flex='2'), m…"
      ]
     },
     "metadata": {},
     "output_type": "display_data"
    },
    {
     "data": {
      "application/vnd.jupyter.widget-view+json": {
       "model_id": "",
       "version_major": 2,
       "version_minor": 0
      },
      "text/plain": [
       "HBox(children=(FloatProgress(value=1.0, bar_style='info', description='Validating', layout=Layout(flex='2'), m…"
      ]
     },
     "metadata": {},
     "output_type": "display_data"
    },
    {
     "data": {
      "application/vnd.jupyter.widget-view+json": {
       "model_id": "",
       "version_major": 2,
       "version_minor": 0
      },
      "text/plain": [
       "HBox(children=(FloatProgress(value=1.0, bar_style='info', description='Validating', layout=Layout(flex='2'), m…"
      ]
     },
     "metadata": {},
     "output_type": "display_data"
    },
    {
     "data": {
      "application/vnd.jupyter.widget-view+json": {
       "model_id": "",
       "version_major": 2,
       "version_minor": 0
      },
      "text/plain": [
       "HBox(children=(FloatProgress(value=1.0, bar_style='info', description='Validating', layout=Layout(flex='2'), m…"
      ]
     },
     "metadata": {},
     "output_type": "display_data"
    },
    {
     "data": {
      "application/vnd.jupyter.widget-view+json": {
       "model_id": "",
       "version_major": 2,
       "version_minor": 0
      },
      "text/plain": [
       "HBox(children=(FloatProgress(value=1.0, bar_style='info', description='Validating', layout=Layout(flex='2'), m…"
      ]
     },
     "metadata": {},
     "output_type": "display_data"
    },
    {
     "data": {
      "application/vnd.jupyter.widget-view+json": {
       "model_id": "",
       "version_major": 2,
       "version_minor": 0
      },
      "text/plain": [
       "HBox(children=(FloatProgress(value=1.0, bar_style='info', description='Validating', layout=Layout(flex='2'), m…"
      ]
     },
     "metadata": {},
     "output_type": "display_data"
    },
    {
     "data": {
      "application/vnd.jupyter.widget-view+json": {
       "model_id": "",
       "version_major": 2,
       "version_minor": 0
      },
      "text/plain": [
       "HBox(children=(FloatProgress(value=1.0, bar_style='info', description='Validating', layout=Layout(flex='2'), m…"
      ]
     },
     "metadata": {},
     "output_type": "display_data"
    },
    {
     "data": {
      "application/vnd.jupyter.widget-view+json": {
       "model_id": "",
       "version_major": 2,
       "version_minor": 0
      },
      "text/plain": [
       "HBox(children=(FloatProgress(value=1.0, bar_style='info', description='Validating', layout=Layout(flex='2'), m…"
      ]
     },
     "metadata": {},
     "output_type": "display_data"
    },
    {
     "data": {
      "application/vnd.jupyter.widget-view+json": {
       "model_id": "",
       "version_major": 2,
       "version_minor": 0
      },
      "text/plain": [
       "HBox(children=(FloatProgress(value=1.0, bar_style='info', description='Validating', layout=Layout(flex='2'), m…"
      ]
     },
     "metadata": {},
     "output_type": "display_data"
    },
    {
     "data": {
      "application/vnd.jupyter.widget-view+json": {
       "model_id": "",
       "version_major": 2,
       "version_minor": 0
      },
      "text/plain": [
       "HBox(children=(FloatProgress(value=1.0, bar_style='info', description='Validating', layout=Layout(flex='2'), m…"
      ]
     },
     "metadata": {},
     "output_type": "display_data"
    },
    {
     "data": {
      "application/vnd.jupyter.widget-view+json": {
       "model_id": "",
       "version_major": 2,
       "version_minor": 0
      },
      "text/plain": [
       "HBox(children=(FloatProgress(value=1.0, bar_style='info', description='Validating', layout=Layout(flex='2'), m…"
      ]
     },
     "metadata": {},
     "output_type": "display_data"
    },
    {
     "data": {
      "application/vnd.jupyter.widget-view+json": {
       "model_id": "",
       "version_major": 2,
       "version_minor": 0
      },
      "text/plain": [
       "HBox(children=(FloatProgress(value=1.0, bar_style='info', description='Validating', layout=Layout(flex='2'), m…"
      ]
     },
     "metadata": {},
     "output_type": "display_data"
    },
    {
     "data": {
      "application/vnd.jupyter.widget-view+json": {
       "model_id": "",
       "version_major": 2,
       "version_minor": 0
      },
      "text/plain": [
       "HBox(children=(FloatProgress(value=1.0, bar_style='info', description='Validating', layout=Layout(flex='2'), m…"
      ]
     },
     "metadata": {},
     "output_type": "display_data"
    },
    {
     "data": {
      "application/vnd.jupyter.widget-view+json": {
       "model_id": "",
       "version_major": 2,
       "version_minor": 0
      },
      "text/plain": [
       "HBox(children=(FloatProgress(value=1.0, bar_style='info', description='Validating', layout=Layout(flex='2'), m…"
      ]
     },
     "metadata": {},
     "output_type": "display_data"
    },
    {
     "data": {
      "application/vnd.jupyter.widget-view+json": {
       "model_id": "",
       "version_major": 2,
       "version_minor": 0
      },
      "text/plain": [
       "HBox(children=(FloatProgress(value=1.0, bar_style='info', description='Validating', layout=Layout(flex='2'), m…"
      ]
     },
     "metadata": {},
     "output_type": "display_data"
    },
    {
     "data": {
      "application/vnd.jupyter.widget-view+json": {
       "model_id": "",
       "version_major": 2,
       "version_minor": 0
      },
      "text/plain": [
       "HBox(children=(FloatProgress(value=1.0, bar_style='info', description='Validating', layout=Layout(flex='2'), m…"
      ]
     },
     "metadata": {},
     "output_type": "display_data"
    },
    {
     "name": "stdout",
     "output_type": "stream",
     "text": [
      "\n"
     ]
    },
    {
     "data": {
      "text/plain": [
       "1"
      ]
     },
     "execution_count": 14,
     "metadata": {},
     "output_type": "execute_result"
    }
   ],
   "source": [
    "# Seed everything\n",
    "pl.seed_everything(42)\n",
    "torch.backends.cudnn.deterministic = True\n",
    "\n",
    "hyperparams = {\n",
    "    \"layer1_units\": 128,\n",
    "    \"layer2_units\": 64,\n",
    "    \"learning_rate\": 0.1,\n",
    "    \"batch_size\": 500,\n",
    "    \"L1_regularization_strength\": 0.001,\n",
    "    \"L2_regularization_strength\": 0.001,\n",
    "    \"pred_cutoff\": 0.2,\n",
    "}\n",
    "\n",
    "epochs = 20\n",
    "\n",
    "# Train model\n",
    "nn_trainer = pl.Trainer(gpus=1, max_epochs=epochs)\n",
    "nn_model = None\n",
    "nn_model = NNModel(dat_train, dat_val, dat_test, hyperparams, embedding_sizes)\n",
    "\n",
    "nn_trainer.fit(nn_model)"
   ]
  },
  {
   "cell_type": "code",
   "execution_count": 15,
   "metadata": {},
   "outputs": [
    {
     "data": {
      "application/vnd.jupyter.widget-view+json": {
       "model_id": "329c7dbb8059437f9e3876167bd40d3b",
       "version_major": 2,
       "version_minor": 0
      },
      "text/plain": [
       "HBox(children=(FloatProgress(value=1.0, bar_style='info', description='Testing', layout=Layout(flex='2'), max=…"
      ]
     },
     "metadata": {},
     "output_type": "display_data"
    },
    {
     "name": "stdout",
     "output_type": "stream",
     "text": [
      "--------------------------------------------------------------------------------\n",
      "TEST RESULTS\n",
      "{'avg_test_AUC': tensor(0.7975),\n",
      " 'avg_test_accuracy': tensor(0.7560),\n",
      " 'avg_test_loss': tensor(0.3610, device='cuda:0'),\n",
      " 'avg_test_precision': tensor(0.7251),\n",
      " 'avg_test_recall': tensor(0.7975)}\n",
      "--------------------------------------------------------------------------------\n",
      "\n"
     ]
    },
    {
     "data": {
      "text/plain": [
       "{'avg_test_loss': 0.3609829545021057,\n",
       " 'avg_test_accuracy': 0.7559570670127869,\n",
       " 'avg_test_precision': 0.7250562310218811,\n",
       " 'avg_test_recall': 0.7975349426269531,\n",
       " 'avg_test_AUC': 0.7975349426269531}"
      ]
     },
     "execution_count": 15,
     "metadata": {},
     "output_type": "execute_result"
    }
   ],
   "source": [
    "nn_trainer.test()"
   ]
  },
  {
   "cell_type": "markdown",
   "metadata": {
    "colab_type": "text",
    "id": "7j0LrXMGlTDl"
   },
   "source": [
    "You can try retraining the model using different parameters. If you leave the parameters as is, then you see that this relatively simple deep neural net does a decent job in predicting income with an **overall accuracy of 0.8317** and an **AUC of 0.8817**. \n",
    "\n",
    "**But evaluation metrics with respect to subgroups are missing.** We will cover some of the ways you can evaluate at the subgroup level in the next section."
   ]
  },
  {
   "cell_type": "markdown",
   "metadata": {
    "colab_type": "text",
    "id": "sbwmbnUUU1kY"
   },
   "source": [
    "## Evaluating for Fairness Using a Confusion Matrix\n",
    "\n",
    "While evaluating the overall performance of the model gives us some insight into its quality, it doesn't give us much insight into how well our model performs for different subgroups.  \n",
    "\n",
    "When evaluating a model for fairness, it's important to determine whether prediction errors are uniform across subgroups or whether certain subgroups are more susceptible to certain prediction errors than others. \n",
    "\n",
    "A key tool for comparing the prevalence of different types of model errors is a *confusion matrix*. Recall from the [Classification module of Machine Learning Crash Course](https://developers.google.com/machine-learning/crash-course/classification/true-false-positive-negative) that a confusion matrix is a grid that plots predictions vs. ground truth for your model, and tabulates statistics summarizing how often your model made the correct prediction and how often it made the wrong prediction. \n",
    "\n",
    "Let's start by creating a binary confusion matrix for our income-prediction model—binary because our label (`income_bracket`) has only two possible values (`<50K` or `>50K`). We'll define an income of `>50K` as our **positive label**, and an income of `<50k` as our **negative label**.\n",
    "\n",
    "**NOTE:** *Positive* and *negative* in this context should not be interpreted as value judgments (we are not suggesting that someone who earns more than 50k a year is a better person than someone who earns less than 50k). They are just standard terms used to distinguish between the two possible predictions the model can make.\n",
    "\n",
    "Cases where the model makes the correct prediction (the prediction matches the ground truth) are classified as **true**, and cases where the model makes the wrong prediction are classified as **false**.\n",
    "\n",
    "Our confusion matrix thus represents four possible states:\n",
    "\n",
    "* **true positive**: Model predicts `>50K`, and that is the ground truth.\n",
    "* **true negative**: Model predicts `<50K`, and that is the ground truth.\n",
    "* **false positive**: Model predicts `>50K`, and that contradicts reality.\n",
    "* **false negative**: Model predicts `<50K`, and that contradicts reality.\n",
    "\n",
    "**NOTE:** If desired, we can use the number of outcomes in each of these states to calculate secondary evaluation metrics, such as [precision and recall](https://developers.google.com/machine-learning/crash-course/classification/precision-and-recall)."
   ]
  },
  {
   "cell_type": "markdown",
   "metadata": {
    "colab_type": "text",
    "id": "nsUj_XZHU_mI"
   },
   "source": [
    "### Plot the Confusion Matrix\n",
    "\n",
    "Since we've already defined which metrics we're interested in back when we defined and compiled our model, all we have to do now is:\n",
    "\n",
    "\n",
    "1.   Define a function that will help us visualize the heatmap.\n",
    "2.   Select which subgroup we're interested in, then pass that subgroup selection into `tf.keras.Model.predict()` for evaluation.\n",
    "\n"
   ]
  },
  {
   "cell_type": "markdown",
   "metadata": {
    "cellView": "form",
    "colab": {},
    "colab_type": "code",
    "id": "ouE72GWSxu1j"
   },
   "source": [
    "```python\n",
    "# @title Define Function to Visualize Binary Confusion Matrix\n",
    "def plot_confusion_matrix(confusion_matrix, class_names, subgroup, figsize=(8, 6)):\n",
    "    # We're taking our calculated binary confusion matrix that's already in the\n",
    "    # form of an array and turning it into a pandas DataFrame because it's a lot\n",
    "    # easier to work with a pandas DataFrame when visualizing a heat map in\n",
    "    # Seaborn.\n",
    "    df_cm = pd.DataFrame(confusion_matrix, index=class_names, columns=class_names,)\n",
    "\n",
    "    rcParams.update(\n",
    "        {\"font.family\": \"sans-serif\", \"font.sans-serif\": [\"Liberation Sans\"],}\n",
    "    )\n",
    "\n",
    "    sns.set_context(\"notebook\", font_scale=1.25)\n",
    "\n",
    "    fig = plt.figure(figsize=figsize)\n",
    "\n",
    "    plt.title(\"Confusion Matrix for Performance Across \" + subgroup)\n",
    "\n",
    "    # Combine the instance (numercial value) with its description\n",
    "    strings = np.asarray(\n",
    "        [[\"True Positives\", \"False Negatives\"], [\"False Positives\", \"True Negatives\"]]\n",
    "    )\n",
    "    labels = (\n",
    "        np.asarray(\n",
    "            [\n",
    "                \"{0:g}\\n{1}\".format(value, string)\n",
    "                for string, value in zip(strings.flatten(), confusion_matrix.flatten())\n",
    "            ]\n",
    "        )\n",
    "    ).reshape(2, 2)\n",
    "\n",
    "    heatmap = sns.heatmap(\n",
    "        df_cm, annot=labels, fmt=\"\", linewidths=2.0, cmap=sns.color_palette(\"GnBu_d\")\n",
    "    )\n",
    "    heatmap.yaxis.set_ticklabels(heatmap.yaxis.get_ticklabels(), rotation=0, ha=\"right\")\n",
    "    heatmap.xaxis.set_ticklabels(\n",
    "        heatmap.xaxis.get_ticklabels(), rotation=45, ha=\"right\"\n",
    "    )\n",
    "    plt.ylabel(\"References\")\n",
    "    plt.xlabel(\"Predictions\")\n",
    "    return fig\n",
    "```"
   ]
  },
  {
   "cell_type": "markdown",
   "metadata": {
    "colab_type": "text",
    "id": "hUvBYtwXVzlQ"
   },
   "source": [
    "Now that we have all the necessary functions defined, we can now compute the binary confusion matrix and evaluation metrics using the outcomes from [our deep neural net model](#scrollTo=3nYSMg67jWaA). The output of this cell is a tabbed view, which allows us to toggle between the confusion matrix and evaluation metrics table."
   ]
  },
  {
   "cell_type": "markdown",
   "metadata": {
    "colab_type": "text",
    "id": "9enf_Jfi-AVS"
   },
   "source": [
    "### FairAware Task #4\n",
    "\n",
    "Use the form below to generate confusion matrices for the two gender subgroups: `Female` and `Male`. Compare the number of False Positives and False Negatives for each subgroup. Are there any significant disparities in error rates that suggest the model performs better for one subgroup than another?"
   ]
  },
  {
   "cell_type": "markdown",
   "metadata": {
    "cellView": "form",
    "colab": {
     "base_uri": "https://localhost:8080/",
     "height": 541
    },
    "colab_type": "code",
    "id": "5TBzaWs1VKTa",
    "outputId": "7c8744b5-e9e7-4efa-d90c-f3798bc73a4b"
   },
   "source": [
    "```python\n",
    "# @title Visualize Binary Confusion Matrix and Compute Evaluation Metrics Per Subgroup\n",
    "CATEGORY = \"gender\"  # @param {type:\"string\"}\n",
    "SUBGROUP = \"Male\"  # @param {type:\"string\"}\n",
    "\n",
    "# Labels for annotating axes in plot.\n",
    "classes = [\"Over $50K\", \"Less than $50K\"]\n",
    "\n",
    "# Given define subgroup, generate predictions and obtain its corresponding\n",
    "# ground truth.\n",
    "subgroup_filter = test_df.loc[test_df[CATEGORY] == SUBGROUP]\n",
    "features, labels = pandas_to_numpy(subgroup_filter)\n",
    "subgroup_results = model.evaluate(x=features, y=labels, verbose=0)\n",
    "confusion_matrix = np.array(\n",
    "    [\n",
    "        [subgroup_results[1], subgroup_results[4]],\n",
    "        [subgroup_results[2], subgroup_results[3]],\n",
    "    ]\n",
    ")\n",
    "\n",
    "subgroup_performance_metrics = {\n",
    "    \"ACCURACY\": subgroup_results[5],\n",
    "    \"PRECISION\": subgroup_results[6],\n",
    "    \"RECALL\": subgroup_results[7],\n",
    "    \"AUC\": subgroup_results[8],\n",
    "}\n",
    "performance_df = pd.DataFrame(subgroup_performance_metrics, index=[SUBGROUP])\n",
    "pd.options.display.float_format = \"{:,.4f}\".format\n",
    "\n",
    "plot_confusion_matrix(confusion_matrix, classes, SUBGROUP)\n",
    "performance_df\n",
    "```"
   ]
  },
  {
   "cell_type": "markdown",
   "metadata": {
    "colab_type": "text",
    "id": "TF3B5h3c-7Fb"
   },
   "source": [
    "### Solution\n",
    "\n",
    "Click below for some insights we uncovered"
   ]
  },
  {
   "cell_type": "markdown",
   "metadata": {
    "colab_type": "text",
    "id": "dhKR49AT_5ZK"
   },
   "source": [
    "Using default parameters, you may find that the model performs better for female than male. Specifically, in our run, we found that both accuracy and AUC for female (0.9137 and 0.9089, respectively) outperformed male (0.7923 and 0.8549, respectively). What is going on here?\n",
    "\n",
    "Notice the number of true positives (top-left corner) for female is way lower compared to male (479 to 3822). Recall that in Task #1 we noticed a disproportionately high representation of male in the data set (almost 2-to-1). If you further explore the data set using Facets Dive in Task #2 by setting the color to `income_bracket` and one of the axes to `gender`, then you will also find a disproportionately small number of female examples in the higher income bracket, our positive label. \n",
    "\n",
    "What this is all suggesting is that the model is **overfitting, particuarly with respect to female and lower income bracket**. In other words, this model will not generalize well, particularly with female data, as it does not have enough positive examples for the model to learn from. It is **not doing that much better with male, either, as there is a disproportionately small number of high income bracket compared to low income bracket** — though not nearly as poorly represented as with female.\n",
    "\n",
    "Hopefully going through this confusion matrix demonstration you find that the results varies slightly from the overall performance metrics, highlighting the importance of evaluating model performance across subgroup rather than in aggregate.\n",
    "\n",
    "In your work, make sure that you make a good decision about the tradeoffs between false positives, false negatives, true positives, and true negatives. For example, you may want a very low false positive rate, but a high true positive rate. Or you may want a high precision, but a low recall is okay.  \n",
    "\n",
    "**Choose your evaluation metrics in light of these desired tradeoffs.**"
   ]
  }
 ],
 "metadata": {
  "colab": {
   "collapsed_sections": [
    "J8daw3YOIAXH",
    "xFxZOg55lWJE",
    "l-K-xqksm-X3",
    "TXkkHYyJ98_k",
    "91wjnZFpPWw-",
    "KlF-lQ8yQ69b",
    "qZ-9vJgSEpHj",
    "7YVH8hYfSjer",
    "2lx4JuLdi7jw",
    "TF3B5h3c-7Fb"
   ],
   "name": "intro_to_fairness.ipynb",
   "provenance": [],
   "toc_visible": true
  },
  "kernelspec": {
   "display_name": "Python 3",
   "language": "python",
   "name": "python3"
  },
  "language_info": {
   "codemirror_mode": {
    "name": "ipython",
    "version": 3
   },
   "file_extension": ".py",
   "mimetype": "text/x-python",
   "name": "python",
   "nbconvert_exporter": "python",
   "pygments_lexer": "ipython3",
   "version": "3.6.9"
  }
 },
 "nbformat": 4,
 "nbformat_minor": 4
}
