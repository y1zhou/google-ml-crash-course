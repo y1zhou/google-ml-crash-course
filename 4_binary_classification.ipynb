{
 "cells": [
  {
   "cell_type": "markdown",
   "metadata": {
    "colab_type": "text",
    "id": "TL5y5fY9Jy_x"
   },
   "source": [
    "# Binary Classification\n",
    "\n",
    "So far, you've only created regression models. That is, you created models that produced floating-point predictions, such as, \"houses in this neighborhood costs N thousand dollars.\" In this Colab, you'll create and evaluate a binary [classification model](https://developers.google.com/machine-learning/glossary/#classification_model).  That is, you'll create a model that answers a binary question. In this exercise, the binary question will be, \"Are houses in this neighborhood above a certain price?\""
   ]
  },
  {
   "cell_type": "markdown",
   "metadata": {},
   "source": [
    "## Regularization\n",
    "We don't want our model to overfit, which is as we go through more and more training iterations, the training loss keeps going down but the validation loss (and eventually the test loss) goes up.\n",
    "\n",
    "There's a lot of regularization strategies. One of them is `early stopping`, meaning that we stop training before the model converges on the training data. Other methods usually try to penalize the model complexity, where instead of simply aiming to minimize loss (empirical risk minimization):\n",
    "\n",
    "$$\n",
    "\\min(\\text{Loss}(\\text{Data} \\mid \\text{Model}))\n",
    "$$\n",
    "\n",
    "we now minimize loss+complexity, which is called `structural risk minimization`.\n",
    "\n",
    "$$\n",
    "\\min\\Big(\\text{Loss}(\\text{Data} \\mid \\text{Model}) + \\lambda \\text{ complexity(Model)} \\Big)\n",
    "$$\n",
    "\n",
    "where $\\lambda$ controls the strength of the regularization effect.\n",
    "\n",
    "The two common ways to think of model complexity are:\n",
    "\n",
    "- `L2 regularization`: model complexity as a function of the weights of all the features in the model.\n",
    "- `L1 regularization`: model complexity as a function of the total number of features with nonzero weights. This is introduced in a later chapter.\n",
    "\n",
    "$L_2$ regularization defines the regularization term as the sum of squares of all the feature weights:\n",
    "\n",
    "$$\n",
    "L_2 \\text{ regularization term} = \\|\\boldsymbol{w}\\|_2^2 = w_1^2 + w_2^2 + \\cdots + w_n^2\n",
    "$$\n",
    "\n",
    "$L_2$ regularization encourages weight values toward 0 (but not exactly 0), and the mean of the weights toward 0 with a normal distribution."
   ]
  },
  {
   "cell_type": "markdown",
   "metadata": {
    "colab_type": "text",
    "id": "yuw8rRl9lNuL"
   },
   "source": [
    "## Logistic regression\n",
    "\n",
    "Many problems require a probability estimate $p \\in [0, 1]$ as output. `Logistic regression` is highly efficient for calculating probabilities, and in many cases we can map the output into a binary classification problem by setting a threshold.\n",
    "\n",
    "If $z$ represents the output of the linear layer, then sigmoid(z) will yield a probaility between 0 and 1:\n",
    "\n",
    "$$\n",
    "y^\\prime = \\frac{1}{1 + e^{-z}}\n",
    "$$\n",
    "\n",
    "where $y^\\prime$ is the output of the logistic regression model, and\n",
    "\n",
    "$$\n",
    "z = b + w_1 x_1 + w_2 x_2 + \\cdots + w_N x_N\n",
    "$$\n",
    "\n",
    "The loss function, instead of the squared loss in linear regression, is the `log loss` defined as:\n",
    "\n",
    "$$\n",
    "\\sum_{(x, y) \\in D} -y\\log(y^\\prime) - (1-y) \\log(1-y^\\prime)\n",
    "$$\n",
    "\n",
    "where $(x, y) \\in D$ is the dataset containing labeled examples, $y$ is the true label and $y^\\prime$ is the predicted value between 0 and 1 given the set of features $x$.\n",
    "\n",
    "Regularization is extremely important in logistic regression modeling. Without regularization, the asymptotic nature of logistic regression would keep driving loss towards 0 in high dimensions, i.e. completely overfit."
   ]
  },
  {
   "cell_type": "markdown",
   "metadata": {},
   "source": [
    "## Metrics\n",
    "\n",
    "### Accuracy, precision and recall\n",
    "Logistic regression returns a probability. To convert it to a binary value, a `classification threshold` must be defined. A value above the threshold indicates one label and a value below it indicates the other.\n",
    "\n",
    "See the [confusion matrix](https://developers.google.com/machine-learning/crash-course/classification/true-false-positive-negative) to understand true/false positive/negatives. The following metrics are defined using these four values.\n",
    "\n",
    "$$\n",
    "\\text{Accuracy} = \\frac{\\text{# of correct predictions}}{\\text{Total # of predictions}}\n",
    "$$\n",
    "\n",
    "which in binary classification equals\n",
    "\n",
    "$$\n",
    "\\text{Accuracy} = \\frac{TP + TN}{TP + TN + FP + FN}\n",
    "$$\n",
    "\n",
    "`Accuarcy` measures the percentages of things the model got right. It breaks down when we have class imbalance. `Precision` and `recall` are defined as:\n",
    "\n",
    "$$\n",
    "\\begin{gathered}\n",
    "    \\text{Precision} = \\frac{TP}{TP + FP} \\\\\n",
    "    \\text{Recall} = \\frac{TP}{TP + FN}\n",
    "\\end{gathered}\n",
    "$$\n",
    "\n",
    "To fully evaluate the effectiveness of a model, you must examine **both precision and recall**. When the classification threshold is raised, precision generally increases because false positives are reduced. Various metrics have been developed that rely on both precision and recall, such as the [F1 score](https://en.wikipedia.org/wiki/F1_score).\n",
    "\n",
    "### ROC curve and AOC\n",
    "An ROC curve (receiver operating characteristic curve) shows the performance of a classification model at all classification thresholds.\n",
    "\n",
    "The `true positive rate` (TPR) isa synonym for recall:\n",
    "\n",
    "$$\n",
    "TPR = \\frac{TP}{TP + FN}\n",
    "$$\n",
    "\n",
    "The `false positive rate` (FPR) is\n",
    "\n",
    "$$\n",
    "FPR = \\frac{FP}{FP + TN}\n",
    "$$\n",
    "\n",
    "An ROC curve plots TPR against FPR at different classification thresholds. Lowering the classification threshold classifies more items as positive, thus increasing both False Positives and True Positives.\n",
    "\n",
    "`AUC` stands for \"area under the ROC curve\". AUC provides an aggregate measure of performance across all possible classification thresholds. One way of interpreting AUC is as the probability that the model [ranks a random positive example more highly than a random negative example](https://developers.google.com/machine-learning/crash-course/classification/roc-and-auc#AUC).\n",
    "\n",
    "### Prediction bias\n",
    "\n",
    "Logistic regression predictions should be unbiased, that is the average of predictions should be approximately equal to the average of observations. The difference between the two averages is the `prediction bias`.\n",
    "\n",
    "Since all labels are either 0 or 1, when examining prediction bias we need to use a \"bucket\" of samples. Buckets can be formed by linearly breaking up the target predictions, or by using quantiles. `Calibration plots` are often used to analyze the prediction bias."
   ]
  },
  {
   "cell_type": "markdown",
   "metadata": {
    "colab_type": "text",
    "id": "44OdC-OglN9D"
   },
   "source": [
    "## The Dataset\n",
    "  \n",
    "Like the previous Colabs, this Colab uses the [California Housing Dataset](https://developers.google.com/machine-learning/crash-course/california-housing-data-description)."
   ]
  },
  {
   "cell_type": "code",
   "execution_count": 1,
   "metadata": {
    "cellView": "form",
    "colab": {},
    "colab_type": "code",
    "id": "9n9_cTveKmse"
   },
   "outputs": [],
   "source": [
    "import numpy as np\n",
    "import pandas as pd\n",
    "\n",
    "import torch\n",
    "import torch.nn as nn\n",
    "import pytorch_lightning as pl\n",
    "from torch.utils.data import Dataset, DataLoader\n",
    "from sklearn.metrics import accuracy_score\n",
    "\n",
    "import seaborn as sns\n",
    "from matplotlib import pyplot as plt\n",
    "\n",
    "from tqdm import tqdm\n",
    "from IPython.display import clear_output, display\n",
    "\n",
    "sns.set(style='whitegrid', palette=\"deep\", font_scale=1.1, rc={\"figure.figsize\": [8, 5]})\n",
    "device = torch.device(\"cuda:0\") if torch.cuda.is_available() else torch.device(\"cpu\")"
   ]
  },
  {
   "cell_type": "code",
   "execution_count": 2,
   "metadata": {
    "colab": {},
    "colab_type": "code",
    "id": "JZlvdpyYKx7V"
   },
   "outputs": [],
   "source": [
    "train_df = pd.read_csv(\"https://download.mlcc.google.com/mledu-datasets/california_housing_train.csv\")\n",
    "test_df = pd.read_csv(\"https://download.mlcc.google.com/mledu-datasets/california_housing_test.csv\")\n",
    "train_df = train_df.reindex(np.random.permutation(train_df.index)) # shuffle the training set"
   ]
  },
  {
   "cell_type": "markdown",
   "metadata": {
    "colab_type": "text",
    "id": "q_vuAQq0Cvrp"
   },
   "source": [
    "Unlike some of the previous Colabs, the preceding code cell did not scale the label (`median_house_value`).  The following section (\"Normalize values\") provides an alternative approach."
   ]
  },
  {
   "cell_type": "markdown",
   "metadata": {
    "colab_type": "text",
    "id": "_G6y-XcEmk6r"
   },
   "source": [
    "## Normalize values\n",
    "\n",
    "When creating a model with multiple features, the values of each feature should cover roughly the same range.  For example, if one feature's range spans 500 to 100,000 and another feature's range spans 2 to 12, then the model will be difficult or impossible to train. Therefore, you should \n",
    "[normalize](https://developers.google.com/machine-learning/glossary/#normalization) features in a multi-feature model. \n",
    "\n",
    "The following code cell normalizes datasets by converting each raw value (including the label) to its Z-score. A **Z-score** is the number of standard deviations from the mean for a particular raw value. For example, consider a feature having the following characteristics:\n",
    "\n",
    "  * The mean is 60.\n",
    "  * The standard deviation is 10.\n",
    "\n",
    "The raw value 75 would have a Z-score of +1.5:\n",
    "\n",
    "```\n",
    "  Z-score = (75 - 60) / 10 = +1.5\n",
    "```\n",
    "\n",
    "The raw value 38 would have a Z-score of -2.2:\n",
    "\n",
    "```\n",
    "  Z-score = (38 - 60) / 10 = -2.2\n",
    "```"
   ]
  },
  {
   "cell_type": "code",
   "execution_count": 3,
   "metadata": {
    "colab": {},
    "colab_type": "code",
    "id": "n7nuAHoZIgVI"
   },
   "outputs": [
    {
     "data": {
      "text/html": [
       "<div>\n",
       "<style scoped>\n",
       "    .dataframe tbody tr th:only-of-type {\n",
       "        vertical-align: middle;\n",
       "    }\n",
       "\n",
       "    .dataframe tbody tr th {\n",
       "        vertical-align: top;\n",
       "    }\n",
       "\n",
       "    .dataframe thead th {\n",
       "        text-align: right;\n",
       "    }\n",
       "</style>\n",
       "<table border=\"1\" class=\"dataframe\">\n",
       "  <thead>\n",
       "    <tr style=\"text-align: right;\">\n",
       "      <th></th>\n",
       "      <th>longitude</th>\n",
       "      <th>latitude</th>\n",
       "      <th>housing_median_age</th>\n",
       "      <th>total_rooms</th>\n",
       "      <th>total_bedrooms</th>\n",
       "      <th>population</th>\n",
       "      <th>households</th>\n",
       "      <th>median_income</th>\n",
       "      <th>median_house_value</th>\n",
       "    </tr>\n",
       "  </thead>\n",
       "  <tbody>\n",
       "    <tr>\n",
       "      <th>10399</th>\n",
       "      <td>-0.328098</td>\n",
       "      <td>1.134483</td>\n",
       "      <td>-1.159087</td>\n",
       "      <td>0.531818</td>\n",
       "      <td>0.354898</td>\n",
       "      <td>-0.261858</td>\n",
       "      <td>-0.062993</td>\n",
       "      <td>-0.610421</td>\n",
       "      <td>-0.606127</td>\n",
       "    </tr>\n",
       "    <tr>\n",
       "      <th>14523</th>\n",
       "      <td>-1.290612</td>\n",
       "      <td>0.989443</td>\n",
       "      <td>1.621574</td>\n",
       "      <td>-0.604907</td>\n",
       "      <td>-0.622565</td>\n",
       "      <td>-0.579843</td>\n",
       "      <td>-0.570117</td>\n",
       "      <td>-0.299283</td>\n",
       "      <td>-0.769943</td>\n",
       "    </tr>\n",
       "    <tr>\n",
       "      <th>12552</th>\n",
       "      <td>-1.041256</td>\n",
       "      <td>0.488820</td>\n",
       "      <td>-0.046823</td>\n",
       "      <td>-0.329212</td>\n",
       "      <td>0.039358</td>\n",
       "      <td>0.250403</td>\n",
       "      <td>0.087845</td>\n",
       "      <td>-1.019349</td>\n",
       "      <td>-0.725109</td>\n",
       "    </tr>\n",
       "    <tr>\n",
       "      <th>9898</th>\n",
       "      <td>-0.078742</td>\n",
       "      <td>-0.568569</td>\n",
       "      <td>0.509310</td>\n",
       "      <td>-0.813169</td>\n",
       "      <td>-0.935733</td>\n",
       "      <td>-0.937031</td>\n",
       "      <td>-0.902999</td>\n",
       "      <td>0.229448</td>\n",
       "      <td>1.159637</td>\n",
       "    </tr>\n",
       "    <tr>\n",
       "      <th>6151</th>\n",
       "      <td>0.664338</td>\n",
       "      <td>-0.811862</td>\n",
       "      <td>0.588757</td>\n",
       "      <td>-0.020947</td>\n",
       "      <td>-0.060287</td>\n",
       "      <td>0.385438</td>\n",
       "      <td>0.033231</td>\n",
       "      <td>-0.375691</td>\n",
       "      <td>-0.772530</td>\n",
       "    </tr>\n",
       "  </tbody>\n",
       "</table>\n",
       "</div>"
      ],
      "text/plain": [
       "       longitude  latitude  housing_median_age  total_rooms  total_bedrooms  \\\n",
       "10399  -0.328098  1.134483           -1.159087     0.531818        0.354898   \n",
       "14523  -1.290612  0.989443            1.621574    -0.604907       -0.622565   \n",
       "12552  -1.041256  0.488820           -0.046823    -0.329212        0.039358   \n",
       "9898   -0.078742 -0.568569            0.509310    -0.813169       -0.935733   \n",
       "6151    0.664338 -0.811862            0.588757    -0.020947       -0.060287   \n",
       "\n",
       "       population  households  median_income  median_house_value  \n",
       "10399   -0.261858   -0.062993      -0.610421           -0.606127  \n",
       "14523   -0.579843   -0.570117      -0.299283           -0.769943  \n",
       "12552    0.250403    0.087845      -1.019349           -0.725109  \n",
       "9898    -0.937031   -0.902999       0.229448            1.159637  \n",
       "6151     0.385438    0.033231      -0.375691           -0.772530  "
      ]
     },
     "execution_count": 3,
     "metadata": {},
     "output_type": "execute_result"
    }
   ],
   "source": [
    "# Calculate the Z-scores of each column in the training set and\n",
    "# write those Z-scores into a new pandas DataFrame named train_df_norm.\n",
    "train_df_mean = train_df.mean()\n",
    "train_df_std = train_df.std()\n",
    "train_df_norm = (train_df - train_df_mean)/train_df_std\n",
    "\n",
    "# Calculate the Z-scores of each column in the test set and\n",
    "# write those Z-scores into a new pandas DataFrame named test_df_norm.\n",
    "test_df_mean = test_df.mean()\n",
    "test_df_std  = test_df.std()\n",
    "test_df_norm = (test_df - test_df_mean)/test_df_std\n",
    "\n",
    "# Examine some of the values of the normalized training set. Notice that most \n",
    "# Z-scores fall between -2 and +2.\n",
    "train_df_norm.head()"
   ]
  },
  {
   "cell_type": "markdown",
   "metadata": {
    "colab_type": "text",
    "id": "-swmXtWnZGis"
   },
   "source": [
    "## Task 1: Create a binary label\n",
    "\n",
    "In classification problems, the label for every example must be either 0 or 1. Unfortunately, the natural label in the California Housing Dataset, `median_house_value`, contains floating-point values like 80,100 or 85,700 rather than 0s and 1s, while the normalized version of `median_house_values` contains floating-point values primarily between -3 and +3.\n",
    "\n",
    "Your task is to create a new column named `median_house_value_is_high` in both the training set and the test set . If the `median_house_value` is higher than a certain arbitrary value (defined by `threshold`), then set `median_house_value_is_high` to 1. Otherwise, set `median_house_value_is_high` to 0. \n",
    "\n",
    "**Hint:** The cells in the `median_house_value_is_high` column must each hold `1` and `0`, not `True` and `False`. To convert `True` and `False` to  `1` and `0`, call the pandas DataFrame function `astype(float)`. "
   ]
  },
  {
   "cell_type": "code",
   "execution_count": 4,
   "metadata": {
    "colab": {},
    "colab_type": "code",
    "id": "d4kWfWA8bhKW"
   },
   "outputs": [
    {
     "data": {
      "text/plain": [
       "10399    0.0\n",
       "14523    0.0\n",
       "12552    0.0\n",
       "9898     1.0\n",
       "6151     0.0\n",
       "        ... \n",
       "10985    0.0\n",
       "11227    0.0\n",
       "13444    0.0\n",
       "968      0.0\n",
       "4042     0.0\n",
       "Name: median_house_value_is_high, Length: 17000, dtype: float64"
      ]
     },
     "execution_count": 4,
     "metadata": {},
     "output_type": "execute_result"
    }
   ],
   "source": [
    "# The following possible solution uses a Z-score\n",
    "# of +1.0 as the threshold, meaning that no more\n",
    "# than 16% of the values in median_house_value_is_high\n",
    "# will be labeled 1.\n",
    "\n",
    "threshold_in_Z = 1.0 \n",
    "train_df_norm[\"median_house_value_is_high\"] = (train_df_norm[\"median_house_value\"] > threshold_in_Z).astype(float)\n",
    "test_df_norm[\"median_house_value_is_high\"] = (test_df_norm[\"median_house_value\"] > threshold_in_Z).astype(float) \n",
    "\n",
    "train_df_norm[\"median_house_value_is_high\"]"
   ]
  },
  {
   "cell_type": "markdown",
   "metadata": {
    "colab_type": "text",
    "id": "8kir8UTUXSV8"
   },
   "source": [
    "## Define dataset and model"
   ]
  },
  {
   "cell_type": "code",
   "execution_count": 5,
   "metadata": {
    "colab": {},
    "colab_type": "code",
    "id": "3tmmZIDw4JEC"
   },
   "outputs": [],
   "source": [
    "# Map features and labels into a tensor dataset\n",
    "class HousingDataset(Dataset):\n",
    "    def __init__(self, X, y):\n",
    "        self.x = torch.tensor(X.to_numpy().reshape(-1, X.shape[1]), dtype=torch.float)\n",
    "        self.y = torch.tensor(y.to_numpy().reshape(-1, 1), dtype=torch.float)\n",
    "    \n",
    "    def __getitem__(self, idx):\n",
    "        return (self.x[idx], self.y[idx])\n",
    "    \n",
    "    def __len__(self):\n",
    "        return len(self.y)\n",
    "    \n",
    "\n",
    "dat = HousingDataset(train_df_norm[[\"median_income\", \"total_rooms\"]], train_df_norm[\"median_house_value_is_high\"])\n",
    "test_dat = HousingDataset(test_df_norm[[\"median_income\", \"total_rooms\"]], test_df_norm[\"median_house_value_is_high\"])"
   ]
  },
  {
   "cell_type": "markdown",
   "metadata": {
    "colab_type": "text",
    "id": "3014ezH3C7jT"
   },
   "source": [
    "## Define functions that build and train a model\n",
    "\n",
    "The following code cell defines two functions:\n",
    "\n",
    "  * `create_model(my_learning_rate, feature_layer, my_metrics)`, which defines the model's\n",
    "    topography.\n",
    "  * `train_model(model, dataset, epochs, label_name, batch_size, shuffle)`, uses input features and labels to train the model.\n",
    "\n",
    "Prior exercises used [ReLU](https://developers.google.com/machine-learning/glossary#ReLU) as the [activation function](https://developers.google.com/machine-learning/glossary#activation_function). By contrast, this exercise uses [sigmoid](https://developers.google.com/machine-learning/glossary#sigmoid_function) as the activation function. "
   ]
  },
  {
   "cell_type": "code",
   "execution_count": 6,
   "metadata": {},
   "outputs": [],
   "source": [
    "# Define the model\n",
    "class LogisticRegressionModel(nn.Module):\n",
    "    def __init__(self, num_features):\n",
    "        super().__init__()\n",
    "        self.linear = nn.Linear(num_features, 1)\n",
    "        \n",
    "    def forward(self, x):\n",
    "        y_hat = self.linear(x)\n",
    "        return y_hat"
   ]
  },
  {
   "cell_type": "code",
   "execution_count": 7,
   "metadata": {},
   "outputs": [
    {
     "data": {
      "text/plain": [
       "'Loss (BCE): 0.3126 | Accuracy: 0.8823'"
      ]
     },
     "metadata": {},
     "output_type": "display_data"
    },
    {
     "name": "stdout",
     "output_type": "stream",
     "text": [
      "Test set loss: 0.3130 | Accuracy: 0.8853\n",
      "OrderedDict([('linear.weight', tensor([[ 1.5828, -0.0851]], device='cuda:0')), ('linear.bias', tensor([-2.1387], device='cuda:0'))])\n"
     ]
    }
   ],
   "source": [
    "# The following variables are the hyperparameters.\n",
    "learning_rate = 0.001\n",
    "epochs = 20\n",
    "batch_size = 100\n",
    "classification_threshold = 0.35\n",
    "\n",
    "torch.manual_seed(42)\n",
    "my_model = LogisticRegressionModel(2).to(device)\n",
    "criterion = nn.BCEWithLogitsLoss()\n",
    "optimizer = torch.optim.RMSprop(my_model.parameters(), lr = learning_rate)\n",
    "\n",
    "train_loader = DataLoader(dataset=dat, batch_size=batch_size, shuffle=True)\n",
    "\n",
    "losses = []\n",
    "accuracy = []\n",
    "precision = []\n",
    "recall = []\n",
    "roc_auc = []\n",
    "\n",
    "for epoch in range(epochs):\n",
    "    display(f\"Epoch: {epoch + 1}\")\n",
    "\n",
    "    epoch_losses = []\n",
    "    epoch_accuracy = []\n",
    "    for x_batch, y_batch in tqdm(train_loader):\n",
    "        x_batch, y_batch = x_batch.to(device), y_batch.to(device)\n",
    "        \n",
    "        my_model.train()\n",
    "        y_hat = my_model(x_batch)\n",
    "        loss = criterion(y_hat, y_batch)\n",
    "        optimizer.zero_grad()\n",
    "        loss.backward()\n",
    "        optimizer.step()\n",
    "        \n",
    "        epoch_losses.append(loss.item())\n",
    "        \n",
    "        # Calculate and track accuracy\n",
    "        with torch.no_grad():\n",
    "            y_true, y_pred = y_batch.cpu().numpy(), y_hat.cpu().numpy()\n",
    "            y_pred = np.where(y_pred > classification_threshold, 1.0, 0.0)\n",
    "            epoch_accuracy.append(accuracy_score(y_true, y_pred))\n",
    "\n",
    "    losses.append(np.mean(epoch_losses))\n",
    "    accuracy.append(np.mean(epoch_accuracy))\n",
    "    clear_output(wait=True)\n",
    "    display(f\"Loss (BCE): {losses[-1] :.4f} | Accuracy: {accuracy[-1]:.4f}\")\n",
    "\n",
    "test_loader = DataLoader(dataset=test_dat, batch_size=batch_size)\n",
    "test_losses = []\n",
    "test_accuracy = []\n",
    "with torch.no_grad():\n",
    "    for x_test, y_test in test_loader:\n",
    "        x_test, y_test = x_test.to(device), y_test.to(device)\n",
    "        y_hat = my_model(x_test)\n",
    "        loss = criterion(y_hat, y_test)\n",
    "        test_losses.append(loss.item())\n",
    "        \n",
    "        y_true, y_pred = y_test.cpu().numpy(), y_hat.cpu().numpy()\n",
    "        y_pred = np.where(y_pred > classification_threshold, 1.0, 0.0)\n",
    "        test_accuracy.append(accuracy_score(y_true, y_pred))\n",
    "    \n",
    "print(f\"Test set loss: {np.mean(test_losses):.4f} | Accuracy: {np.mean(test_accuracy):.4f}\")\n",
    "print(my_model.state_dict())"
   ]
  },
  {
   "cell_type": "code",
   "execution_count": 8,
   "metadata": {},
   "outputs": [
    {
     "data": {
      "text/plain": [
       "Text(0.5, 1.0, 'Accuracy')"
      ]
     },
     "execution_count": 8,
     "metadata": {},
     "output_type": "execute_result"
    },
    {
     "data": {
      "image/png": "[encoded data removed]",
      "text/plain": [
       "<Figure size 1152x576 with 2 Axes>"
      ]
     },
     "metadata": {},
     "output_type": "display_data"
    }
   ],
   "source": [
    "fig, ax = plt.subplots(1, 2, figsize=(16, 8))\n",
    "sns.lineplot(x=np.arange(0, epochs), y=losses, ax=ax[0])\n",
    "sns.lineplot(x=np.arange(0, epochs), y=accuracy, ax=ax[1])\n",
    "\n",
    "ax[0].set_title(\"Loss\")\n",
    "ax[1].set_title(\"Accuracy\")"
   ]
  },
  {
   "cell_type": "markdown",
   "metadata": {
    "colab_type": "text",
    "id": "FF64TpqkbOpn"
   },
   "source": [
    "Accuracy should gradually improve during training (until it can \n",
    "improve no more)."
   ]
  }
 ],
 "metadata": {
  "colab": {
   "collapsed_sections": [],
   "name": "Binary Classification.ipynb",
   "private_outputs": true,
   "provenance": []
  },
  "kernelspec": {
   "display_name": "Python 3",
   "language": "python",
   "name": "python3"
  },
  "language_info": {
   "codemirror_mode": {
    "name": "ipython",
    "version": 3
   },
   "file_extension": ".py",
   "mimetype": "text/x-python",
   "name": "python",
   "nbconvert_exporter": "python",
   "pygments_lexer": "ipython3",
   "version": "3.6.9"
  }
 },
 "nbformat": 4,
 "nbformat_minor": 4
}
